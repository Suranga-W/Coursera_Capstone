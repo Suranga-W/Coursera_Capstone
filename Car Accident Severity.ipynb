{
 "cells": [
  {
   "cell_type": "code",
   "execution_count": 1,
   "metadata": {},
   "outputs": [],
   "source": [
    "#import Libraries\n",
    "\n",
    "import pandas as pd\n",
    "import numpy as np\n",
    "import matplotlib.pyplot as plt\n",
    "from sklearn import preprocessing\n",
    "from sklearn.utils import resample\n",
    "import seaborn as sns"
   ]
  },
  {
   "cell_type": "code",
   "execution_count": 2,
   "metadata": {},
   "outputs": [
    {
     "name": "stderr",
     "output_type": "stream",
     "text": [
      "C:\\Users\\d816660\\Anaconda3\\lib\\site-packages\\IPython\\core\\interactiveshell.py:3063: DtypeWarning: Columns (10,13) have mixed types.Specify dtype option on import or set low_memory=False.\n",
      "  interactivity=interactivity, compiler=compiler, result=result)\n"
     ]
    }
   ],
   "source": [
    "# import dataset\n",
    "main_df = pd.read_csv(\"C:\\\\Users\\d816660\\OneDrive - Telstra\\Personal\\ML\\Coursera\\ML Capstone Project\\Data\\ACCIDENT\\ACCIDENT.csv\")"
   ]
  },
  {
   "cell_type": "code",
   "execution_count": 3,
   "metadata": {},
   "outputs": [
    {
     "data": {
      "text/html": [
       "<div>\n",
       "<style scoped>\n",
       "    .dataframe tbody tr th:only-of-type {\n",
       "        vertical-align: middle;\n",
       "    }\n",
       "\n",
       "    .dataframe tbody tr th {\n",
       "        vertical-align: top;\n",
       "    }\n",
       "\n",
       "    .dataframe thead th {\n",
       "        text-align: right;\n",
       "    }\n",
       "</style>\n",
       "<table border=\"1\" class=\"dataframe\">\n",
       "  <thead>\n",
       "    <tr style=\"text-align: right;\">\n",
       "      <th></th>\n",
       "      <th>ACCIDENT_NO</th>\n",
       "      <th>ACCIDENTDATE</th>\n",
       "      <th>ACCIDENTTIME</th>\n",
       "      <th>ACCIDENT_TYPE</th>\n",
       "      <th>Accident Type Desc</th>\n",
       "      <th>DAY_OF_WEEK</th>\n",
       "      <th>Day Week Description</th>\n",
       "      <th>DCA_CODE</th>\n",
       "      <th>DCA Description</th>\n",
       "      <th>DIRECTORY</th>\n",
       "      <th>...</th>\n",
       "      <th>NO_PERSONS_INJ_3</th>\n",
       "      <th>NO_PERSONS_KILLED</th>\n",
       "      <th>NO_PERSONS_NOT_INJ</th>\n",
       "      <th>POLICE_ATTEND</th>\n",
       "      <th>ROAD_GEOMETRY</th>\n",
       "      <th>Road Geometry Desc</th>\n",
       "      <th>SEVERITY</th>\n",
       "      <th>SPEED_ZONE</th>\n",
       "      <th>Atmosph Cond Desc</th>\n",
       "      <th>Surface Cond Desc</th>\n",
       "    </tr>\n",
       "  </thead>\n",
       "  <tbody>\n",
       "    <tr>\n",
       "      <th>0</th>\n",
       "      <td>T20060000010</td>\n",
       "      <td>13/01/2006</td>\n",
       "      <td>12:42:00</td>\n",
       "      <td>1</td>\n",
       "      <td>Collision with vehicle</td>\n",
       "      <td>6</td>\n",
       "      <td>Friday</td>\n",
       "      <td>113</td>\n",
       "      <td>RIGHT NEAR (INTERSECTIONS ONLY)</td>\n",
       "      <td>MEL</td>\n",
       "      <td>...</td>\n",
       "      <td>1</td>\n",
       "      <td>0</td>\n",
       "      <td>5</td>\n",
       "      <td>1</td>\n",
       "      <td>1</td>\n",
       "      <td>Cross intersection</td>\n",
       "      <td>3</td>\n",
       "      <td>60</td>\n",
       "      <td>Clear</td>\n",
       "      <td>Dry</td>\n",
       "    </tr>\n",
       "    <tr>\n",
       "      <th>1</th>\n",
       "      <td>T20060000018</td>\n",
       "      <td>13/01/2006</td>\n",
       "      <td>19:10:00</td>\n",
       "      <td>1</td>\n",
       "      <td>Collision with vehicle</td>\n",
       "      <td>6</td>\n",
       "      <td>Friday</td>\n",
       "      <td>113</td>\n",
       "      <td>RIGHT NEAR (INTERSECTIONS ONLY)</td>\n",
       "      <td>MEL</td>\n",
       "      <td>...</td>\n",
       "      <td>1</td>\n",
       "      <td>0</td>\n",
       "      <td>3</td>\n",
       "      <td>1</td>\n",
       "      <td>2</td>\n",
       "      <td>T intersection</td>\n",
       "      <td>3</td>\n",
       "      <td>70</td>\n",
       "      <td>Clear</td>\n",
       "      <td>Dry</td>\n",
       "    </tr>\n",
       "    <tr>\n",
       "      <th>2</th>\n",
       "      <td>T20060000022</td>\n",
       "      <td>14/01/2006</td>\n",
       "      <td>12:10:00</td>\n",
       "      <td>7</td>\n",
       "      <td>Fall from or in moving vehicle</td>\n",
       "      <td>7</td>\n",
       "      <td>Saturday</td>\n",
       "      <td>190</td>\n",
       "      <td>FELL IN/FROM VEHICLE</td>\n",
       "      <td>MEL</td>\n",
       "      <td>...</td>\n",
       "      <td>0</td>\n",
       "      <td>0</td>\n",
       "      <td>1</td>\n",
       "      <td>1</td>\n",
       "      <td>5</td>\n",
       "      <td>Not at intersection</td>\n",
       "      <td>2</td>\n",
       "      <td>100</td>\n",
       "      <td>Clear</td>\n",
       "      <td>Dry</td>\n",
       "    </tr>\n",
       "    <tr>\n",
       "      <th>3</th>\n",
       "      <td>T20060000023</td>\n",
       "      <td>14/01/2006</td>\n",
       "      <td>11:49:00</td>\n",
       "      <td>1</td>\n",
       "      <td>Collision with vehicle</td>\n",
       "      <td>7</td>\n",
       "      <td>Saturday</td>\n",
       "      <td>130</td>\n",
       "      <td>REAR END(VEHICLES IN SAME LANE)</td>\n",
       "      <td>MEL</td>\n",
       "      <td>...</td>\n",
       "      <td>0</td>\n",
       "      <td>0</td>\n",
       "      <td>1</td>\n",
       "      <td>1</td>\n",
       "      <td>2</td>\n",
       "      <td>T intersection</td>\n",
       "      <td>2</td>\n",
       "      <td>80</td>\n",
       "      <td>Clear</td>\n",
       "      <td>Dry</td>\n",
       "    </tr>\n",
       "    <tr>\n",
       "      <th>4</th>\n",
       "      <td>T20060000026</td>\n",
       "      <td>14/01/2006</td>\n",
       "      <td>10:45:00</td>\n",
       "      <td>1</td>\n",
       "      <td>Collision with vehicle</td>\n",
       "      <td>7</td>\n",
       "      <td>Saturday</td>\n",
       "      <td>121</td>\n",
       "      <td>RIGHT THROUGH</td>\n",
       "      <td>MEL</td>\n",
       "      <td>...</td>\n",
       "      <td>3</td>\n",
       "      <td>0</td>\n",
       "      <td>0</td>\n",
       "      <td>1</td>\n",
       "      <td>5</td>\n",
       "      <td>Not at intersection</td>\n",
       "      <td>3</td>\n",
       "      <td>50</td>\n",
       "      <td>Clear</td>\n",
       "      <td>Dry</td>\n",
       "    </tr>\n",
       "  </tbody>\n",
       "</table>\n",
       "<p>5 rows × 30 columns</p>\n",
       "</div>"
      ],
      "text/plain": [
       "    ACCIDENT_NO ACCIDENTDATE ACCIDENTTIME  ACCIDENT_TYPE  \\\n",
       "0  T20060000010   13/01/2006     12:42:00              1   \n",
       "1  T20060000018   13/01/2006     19:10:00              1   \n",
       "2  T20060000022   14/01/2006     12:10:00              7   \n",
       "3  T20060000023   14/01/2006     11:49:00              1   \n",
       "4  T20060000026   14/01/2006     10:45:00              1   \n",
       "\n",
       "               Accident Type Desc  DAY_OF_WEEK Day Week Description  DCA_CODE  \\\n",
       "0          Collision with vehicle            6               Friday       113   \n",
       "1          Collision with vehicle            6               Friday       113   \n",
       "2  Fall from or in moving vehicle            7             Saturday       190   \n",
       "3          Collision with vehicle            7             Saturday       130   \n",
       "4          Collision with vehicle            7             Saturday       121   \n",
       "\n",
       "                                  DCA Description DIRECTORY  ...  \\\n",
       "0  RIGHT NEAR (INTERSECTIONS ONLY)                      MEL  ...   \n",
       "1  RIGHT NEAR (INTERSECTIONS ONLY)                      MEL  ...   \n",
       "2        FELL IN/FROM VEHICLE                           MEL  ...   \n",
       "3  REAR END(VEHICLES IN SAME LANE)                      MEL  ...   \n",
       "4           RIGHT THROUGH                               MEL  ...   \n",
       "\n",
       "  NO_PERSONS_INJ_3 NO_PERSONS_KILLED NO_PERSONS_NOT_INJ POLICE_ATTEND  \\\n",
       "0                1                 0                  5             1   \n",
       "1                1                 0                  3             1   \n",
       "2                0                 0                  1             1   \n",
       "3                0                 0                  1             1   \n",
       "4                3                 0                  0             1   \n",
       "\n",
       "   ROAD_GEOMETRY   Road Geometry Desc  SEVERITY  SPEED_ZONE  \\\n",
       "0              1   Cross intersection         3          60   \n",
       "1              2       T intersection         3          70   \n",
       "2              5  Not at intersection         2         100   \n",
       "3              2       T intersection         2          80   \n",
       "4              5  Not at intersection         3          50   \n",
       "\n",
       "   Atmosph Cond Desc  Surface Cond Desc  \n",
       "0              Clear                Dry  \n",
       "1              Clear                Dry  \n",
       "2              Clear                Dry  \n",
       "3              Clear                Dry  \n",
       "4              Clear                Dry  \n",
       "\n",
       "[5 rows x 30 columns]"
      ]
     },
     "execution_count": 3,
     "metadata": {},
     "output_type": "execute_result"
    }
   ],
   "source": [
    "main_df.head()\n"
   ]
  },
  {
   "cell_type": "code",
   "execution_count": 4,
   "metadata": {},
   "outputs": [],
   "source": [
    "# filter required features\n",
    "main_df2 = main_df[['ACCIDENT_NO','Light Condition Desc', 'Road Geometry Desc', 'SPEED_ZONE','Atmosph Cond Desc', 'Surface Cond Desc','SEVERITY' ]]"
   ]
  },
  {
   "cell_type": "code",
   "execution_count": 5,
   "metadata": {},
   "outputs": [
    {
     "data": {
      "text/html": [
       "<div>\n",
       "<style scoped>\n",
       "    .dataframe tbody tr th:only-of-type {\n",
       "        vertical-align: middle;\n",
       "    }\n",
       "\n",
       "    .dataframe tbody tr th {\n",
       "        vertical-align: top;\n",
       "    }\n",
       "\n",
       "    .dataframe thead th {\n",
       "        text-align: right;\n",
       "    }\n",
       "</style>\n",
       "<table border=\"1\" class=\"dataframe\">\n",
       "  <thead>\n",
       "    <tr style=\"text-align: right;\">\n",
       "      <th></th>\n",
       "      <th>ACCIDENT_NO</th>\n",
       "      <th>Light Condition Desc</th>\n",
       "      <th>Road Geometry Desc</th>\n",
       "      <th>SPEED_ZONE</th>\n",
       "      <th>Atmosph Cond Desc</th>\n",
       "      <th>Surface Cond Desc</th>\n",
       "      <th>SEVERITY</th>\n",
       "    </tr>\n",
       "  </thead>\n",
       "  <tbody>\n",
       "    <tr>\n",
       "      <th>0</th>\n",
       "      <td>T20060000010</td>\n",
       "      <td>Day</td>\n",
       "      <td>Cross intersection</td>\n",
       "      <td>60</td>\n",
       "      <td>Clear</td>\n",
       "      <td>Dry</td>\n",
       "      <td>3</td>\n",
       "    </tr>\n",
       "    <tr>\n",
       "      <th>1</th>\n",
       "      <td>T20060000018</td>\n",
       "      <td>Day</td>\n",
       "      <td>T intersection</td>\n",
       "      <td>70</td>\n",
       "      <td>Clear</td>\n",
       "      <td>Dry</td>\n",
       "      <td>3</td>\n",
       "    </tr>\n",
       "    <tr>\n",
       "      <th>2</th>\n",
       "      <td>T20060000022</td>\n",
       "      <td>Day</td>\n",
       "      <td>Not at intersection</td>\n",
       "      <td>100</td>\n",
       "      <td>Clear</td>\n",
       "      <td>Dry</td>\n",
       "      <td>2</td>\n",
       "    </tr>\n",
       "    <tr>\n",
       "      <th>3</th>\n",
       "      <td>T20060000023</td>\n",
       "      <td>Day</td>\n",
       "      <td>T intersection</td>\n",
       "      <td>80</td>\n",
       "      <td>Clear</td>\n",
       "      <td>Dry</td>\n",
       "      <td>2</td>\n",
       "    </tr>\n",
       "    <tr>\n",
       "      <th>4</th>\n",
       "      <td>T20060000026</td>\n",
       "      <td>Day</td>\n",
       "      <td>Not at intersection</td>\n",
       "      <td>50</td>\n",
       "      <td>Clear</td>\n",
       "      <td>Dry</td>\n",
       "      <td>3</td>\n",
       "    </tr>\n",
       "  </tbody>\n",
       "</table>\n",
       "</div>"
      ],
      "text/plain": [
       "    ACCIDENT_NO Light Condition Desc   Road Geometry Desc  SPEED_ZONE  \\\n",
       "0  T20060000010                  Day   Cross intersection          60   \n",
       "1  T20060000018                  Day       T intersection          70   \n",
       "2  T20060000022                  Day  Not at intersection         100   \n",
       "3  T20060000023                  Day       T intersection          80   \n",
       "4  T20060000026                  Day  Not at intersection          50   \n",
       "\n",
       "  Atmosph Cond Desc Surface Cond Desc  SEVERITY  \n",
       "0             Clear               Dry         3  \n",
       "1             Clear               Dry         3  \n",
       "2             Clear               Dry         2  \n",
       "3             Clear               Dry         2  \n",
       "4             Clear               Dry         3  "
      ]
     },
     "execution_count": 5,
     "metadata": {},
     "output_type": "execute_result"
    }
   ],
   "source": [
    "main_df2.head()"
   ]
  },
  {
   "cell_type": "code",
   "execution_count": 6,
   "metadata": {},
   "outputs": [],
   "source": [
    "# update column names\n",
    "accident_df = main_df2.rename(columns={\"Light Condition Desc\" : \"LIGHTCOND\", \"Road Geometry Desc\" : \"ROADGEOM\", \"Atmosph Cond Desc\" : \"WEATHCOND\", \"Surface Cond Desc\" : \"SURFACECOND\"})"
   ]
  },
  {
   "cell_type": "code",
   "execution_count": 7,
   "metadata": {},
   "outputs": [
    {
     "data": {
      "text/html": [
       "<div>\n",
       "<style scoped>\n",
       "    .dataframe tbody tr th:only-of-type {\n",
       "        vertical-align: middle;\n",
       "    }\n",
       "\n",
       "    .dataframe tbody tr th {\n",
       "        vertical-align: top;\n",
       "    }\n",
       "\n",
       "    .dataframe thead th {\n",
       "        text-align: right;\n",
       "    }\n",
       "</style>\n",
       "<table border=\"1\" class=\"dataframe\">\n",
       "  <thead>\n",
       "    <tr style=\"text-align: right;\">\n",
       "      <th></th>\n",
       "      <th>ACCIDENT_NO</th>\n",
       "      <th>LIGHTCOND</th>\n",
       "      <th>ROADGEOM</th>\n",
       "      <th>SPEED_ZONE</th>\n",
       "      <th>WEATHCOND</th>\n",
       "      <th>SURFACECOND</th>\n",
       "      <th>SEVERITY</th>\n",
       "    </tr>\n",
       "  </thead>\n",
       "  <tbody>\n",
       "    <tr>\n",
       "      <th>0</th>\n",
       "      <td>T20060000010</td>\n",
       "      <td>Day</td>\n",
       "      <td>Cross intersection</td>\n",
       "      <td>60</td>\n",
       "      <td>Clear</td>\n",
       "      <td>Dry</td>\n",
       "      <td>3</td>\n",
       "    </tr>\n",
       "    <tr>\n",
       "      <th>1</th>\n",
       "      <td>T20060000018</td>\n",
       "      <td>Day</td>\n",
       "      <td>T intersection</td>\n",
       "      <td>70</td>\n",
       "      <td>Clear</td>\n",
       "      <td>Dry</td>\n",
       "      <td>3</td>\n",
       "    </tr>\n",
       "    <tr>\n",
       "      <th>2</th>\n",
       "      <td>T20060000022</td>\n",
       "      <td>Day</td>\n",
       "      <td>Not at intersection</td>\n",
       "      <td>100</td>\n",
       "      <td>Clear</td>\n",
       "      <td>Dry</td>\n",
       "      <td>2</td>\n",
       "    </tr>\n",
       "    <tr>\n",
       "      <th>3</th>\n",
       "      <td>T20060000023</td>\n",
       "      <td>Day</td>\n",
       "      <td>T intersection</td>\n",
       "      <td>80</td>\n",
       "      <td>Clear</td>\n",
       "      <td>Dry</td>\n",
       "      <td>2</td>\n",
       "    </tr>\n",
       "    <tr>\n",
       "      <th>4</th>\n",
       "      <td>T20060000026</td>\n",
       "      <td>Day</td>\n",
       "      <td>Not at intersection</td>\n",
       "      <td>50</td>\n",
       "      <td>Clear</td>\n",
       "      <td>Dry</td>\n",
       "      <td>3</td>\n",
       "    </tr>\n",
       "  </tbody>\n",
       "</table>\n",
       "</div>"
      ],
      "text/plain": [
       "    ACCIDENT_NO LIGHTCOND             ROADGEOM  SPEED_ZONE WEATHCOND  \\\n",
       "0  T20060000010       Day   Cross intersection          60     Clear   \n",
       "1  T20060000018       Day       T intersection          70     Clear   \n",
       "2  T20060000022       Day  Not at intersection         100     Clear   \n",
       "3  T20060000023       Day       T intersection          80     Clear   \n",
       "4  T20060000026       Day  Not at intersection          50     Clear   \n",
       "\n",
       "  SURFACECOND  SEVERITY  \n",
       "0         Dry         3  \n",
       "1         Dry         3  \n",
       "2         Dry         2  \n",
       "3         Dry         2  \n",
       "4         Dry         3  "
      ]
     },
     "execution_count": 7,
     "metadata": {},
     "output_type": "execute_result"
    }
   ],
   "source": [
    "accident_df.head()\n"
   ]
  },
  {
   "cell_type": "code",
   "execution_count": 8,
   "metadata": {},
   "outputs": [],
   "source": [
    "# Replace unknown values with NaN\n",
    "accident_df.replace(\"Unknown\",np.nan, inplace=True)"
   ]
  },
  {
   "cell_type": "code",
   "execution_count": 9,
   "metadata": {},
   "outputs": [],
   "source": [
    "# Replace Unknown (NaN) value with common value of the data set\n",
    "accident_df[\"LIGHTCOND\"].replace(np.nan, \"Day\", inplace = True)\n"
   ]
  },
  {
   "cell_type": "code",
   "execution_count": 10,
   "metadata": {},
   "outputs": [],
   "source": [
    "#Encoding Light Conditions ( 0 = Light, 1 = Medium, 2 = Dark )\n",
    "accident_df[\"LIGHTCOND\"].replace(\"Day\", 0 , inplace = True)\n",
    "accident_df[\"LIGHTCOND\"].replace(\"Dark Street lights on\", 1 , inplace = True)\n",
    "accident_df[\"LIGHTCOND\"].replace(\"Dusk/Dawn\", 1 , inplace = True)\n",
    "accident_df[\"LIGHTCOND\"].replace(\"Dark No street lights\", 2 , inplace = True)\n",
    "accident_df[\"LIGHTCOND\"].replace(\"Dark Street lights unknown\", 1 , inplace = True) # Replace unknown with common value\n",
    "accident_df[\"LIGHTCOND\"].replace(\"Dark Street lights off\", 2 , inplace = True)"
   ]
  },
  {
   "cell_type": "code",
   "execution_count": 11,
   "metadata": {},
   "outputs": [
    {
     "data": {
      "text/plain": [
       "Not at intersection      101487\n",
       "T intersection            47220\n",
       "Cross intersection        46357\n",
       "Multiple intersection      4133\n",
       "Y intersection              573\n",
       "Dead end                    155\n",
       "Private property              9\n",
       "Road closure                  5\n",
       "Name: ROADGEOM, dtype: int64"
      ]
     },
     "execution_count": 11,
     "metadata": {},
     "output_type": "execute_result"
    }
   ],
   "source": [
    "accident_df[\"ROADGEOM\"].value_counts()"
   ]
  },
  {
   "cell_type": "code",
   "execution_count": 12,
   "metadata": {},
   "outputs": [],
   "source": [
    "# Replace Unknown (NaN) value with common value of the data set\n",
    "accident_df[\"ROADGEOM\"].replace(np.nan, \"Not at intersection\", inplace = True)"
   ]
  },
  {
   "cell_type": "code",
   "execution_count": 13,
   "metadata": {},
   "outputs": [],
   "source": [
    "# Encoding Road Geometry ( 0 = Main Road, 1 = Intersections, 2 = By roads/Private Roads )\n",
    "accident_df[\"ROADGEOM\"].replace(\"Not at intersection\", 0 , inplace = True)\n",
    "accident_df[\"ROADGEOM\"].replace(\"T intersection\", 1 , inplace = True)\n",
    "accident_df[\"ROADGEOM\"].replace(\"Cross intersection\", 1 , inplace = True)\n",
    "accident_df[\"ROADGEOM\"].replace(\"Multiple intersection\", 1 , inplace = True)\n",
    "accident_df[\"ROADGEOM\"].replace(\"Y intersection\", 1 , inplace = True) \n",
    "accident_df[\"ROADGEOM\"].replace(\"Dead end\", 2 , inplace = True)\n",
    "accident_df[\"ROADGEOM\"].replace(\"Private property\", 2 , inplace = True)\n",
    "accident_df[\"ROADGEOM\"].replace(\"Road closure\", 2 , inplace = True)"
   ]
  },
  {
   "cell_type": "code",
   "execution_count": 14,
   "metadata": {},
   "outputs": [
    {
     "data": {
      "text/plain": [
       "60     68028\n",
       "50     35605\n",
       "100    30810\n",
       "80     27296\n",
       "70     14954\n",
       "999    10413\n",
       "40      8708\n",
       "110     2125\n",
       "90       934\n",
       "888      916\n",
       "30       266\n",
       "777      243\n",
       "75        62\n",
       "Name: SPEED_ZONE, dtype: int64"
      ]
     },
     "execution_count": 14,
     "metadata": {},
     "output_type": "execute_result"
    }
   ],
   "source": [
    "accident_df[\"SPEED_ZONE\"].value_counts()"
   ]
  },
  {
   "cell_type": "code",
   "execution_count": 15,
   "metadata": {},
   "outputs": [],
   "source": [
    "# Replace incorrect speed with common values\n",
    "accident_df[\"SPEED_ZONE\"].replace(999, 60 , inplace = True)\n",
    "accident_df[\"SPEED_ZONE\"].replace(777, 60 , inplace = True)\n",
    "accident_df[\"SPEED_ZONE\"].replace(888, 60 , inplace = True)"
   ]
  },
  {
   "cell_type": "code",
   "execution_count": 16,
   "metadata": {},
   "outputs": [
    {
     "data": {
      "text/plain": [
       "60     79600\n",
       "50     35605\n",
       "100    30810\n",
       "80     27296\n",
       "70     14954\n",
       "40      8708\n",
       "110     2125\n",
       "90       934\n",
       "30       266\n",
       "75        62\n",
       "Name: SPEED_ZONE, dtype: int64"
      ]
     },
     "execution_count": 16,
     "metadata": {},
     "output_type": "execute_result"
    }
   ],
   "source": [
    "accident_df[\"SPEED_ZONE\"].value_counts()"
   ]
  },
  {
   "cell_type": "code",
   "execution_count": 17,
   "metadata": {},
   "outputs": [
    {
     "data": {
      "text/plain": [
       "Clear           161833\n",
       "Raining          21610\n",
       "Not known        14376\n",
       "Fog               1504\n",
       "Strong winds       390\n",
       "Dust               389\n",
       "Smoke              211\n",
       "Snowing             47\n",
       "Name: WEATHCOND, dtype: int64"
      ]
     },
     "execution_count": 17,
     "metadata": {},
     "output_type": "execute_result"
    }
   ],
   "source": [
    "accident_df[\"WEATHCOND\"].value_counts()"
   ]
  },
  {
   "cell_type": "code",
   "execution_count": 18,
   "metadata": {},
   "outputs": [],
   "source": [
    "# Encoding weather conditions ( 0 = clear, 1 = overcast and cloudy, 2 = Windy, 3 = Rain and Snow )\n",
    "\n",
    "accident_df[\"WEATHCOND\"].replace(\"Clear\", 0 , inplace = True)\n",
    "accident_df[\"WEATHCOND\"].replace(\"Raining\", 3 , inplace = True)\n",
    "accident_df[\"WEATHCOND\"].replace(\"Not known\", 0 , inplace = True) # Replace Not Known ones with common ones\n",
    "accident_df[\"WEATHCOND\"].replace(\"Fog\", 1 , inplace = True)\n",
    "accident_df[\"WEATHCOND\"].replace(\"Strong winds\", 2 , inplace = True)\n",
    "accident_df[\"WEATHCOND\"].replace(\"Dust\", 2 , inplace = True)\n",
    "accident_df[\"WEATHCOND\"].replace(\"Smoke\", 2 , inplace = True)\n",
    "accident_df[\"WEATHCOND\"].replace(\"Snowing\", 3 , inplace = True)\n"
   ]
  },
  {
   "cell_type": "code",
   "execution_count": 19,
   "metadata": {},
   "outputs": [
    {
     "data": {
      "text/plain": [
       "0    176209\n",
       "3     21657\n",
       "1      1504\n",
       "2       990\n",
       "Name: WEATHCOND, dtype: int64"
      ]
     },
     "execution_count": 19,
     "metadata": {},
     "output_type": "execute_result"
    }
   ],
   "source": [
    "accident_df[\"WEATHCOND\"].value_counts()"
   ]
  },
  {
   "cell_type": "code",
   "execution_count": 20,
   "metadata": {},
   "outputs": [
    {
     "data": {
      "text/plain": [
       "Dry      157828\n",
       "Wet       31578\n",
       "Muddy       431\n",
       "Icy         334\n",
       "Snowy        81\n",
       "Name: SURFACECOND, dtype: int64"
      ]
     },
     "execution_count": 20,
     "metadata": {},
     "output_type": "execute_result"
    }
   ],
   "source": [
    "accident_df[\"SURFACECOND\"].value_counts()"
   ]
  },
  {
   "cell_type": "code",
   "execution_count": 21,
   "metadata": {},
   "outputs": [],
   "source": [
    "# Replace Unknown (NaN) value with common value of the data set\n",
    "accident_df[\"SURFACECOND\"].replace(np.nan, \"Dry\", inplace = True)"
   ]
  },
  {
   "cell_type": "code",
   "execution_count": 22,
   "metadata": {},
   "outputs": [],
   "source": [
    "# Encoding Surface Condition ( 0 = Dry, 1 = Mushy, 2 = Wet )\n",
    "accident_df[\"SURFACECOND\"].replace(\"Dry\", 0 , inplace = True)\n",
    "accident_df[\"SURFACECOND\"].replace(\"Wet\", 2 , inplace = True)\n",
    "accident_df[\"SURFACECOND\"].replace(\"Muddy\", 1 , inplace = True)\n",
    "accident_df[\"SURFACECOND\"].replace(\"Icy\", 2 , inplace = True)\n",
    "accident_df[\"SURFACECOND\"].replace(\"Snowy\", 2 , inplace = True)"
   ]
  },
  {
   "cell_type": "code",
   "execution_count": 23,
   "metadata": {},
   "outputs": [
    {
     "data": {
      "text/plain": [
       "0    167936\n",
       "2     31993\n",
       "1       431\n",
       "Name: SURFACECOND, dtype: int64"
      ]
     },
     "execution_count": 23,
     "metadata": {},
     "output_type": "execute_result"
    }
   ],
   "source": [
    "accident_df[\"SURFACECOND\"].value_counts()"
   ]
  },
  {
   "cell_type": "code",
   "execution_count": 24,
   "metadata": {},
   "outputs": [
    {
     "data": {
      "text/html": [
       "<div>\n",
       "<style scoped>\n",
       "    .dataframe tbody tr th:only-of-type {\n",
       "        vertical-align: middle;\n",
       "    }\n",
       "\n",
       "    .dataframe tbody tr th {\n",
       "        vertical-align: top;\n",
       "    }\n",
       "\n",
       "    .dataframe thead th {\n",
       "        text-align: right;\n",
       "    }\n",
       "</style>\n",
       "<table border=\"1\" class=\"dataframe\">\n",
       "  <thead>\n",
       "    <tr style=\"text-align: right;\">\n",
       "      <th></th>\n",
       "      <th>ACCIDENT_NO</th>\n",
       "      <th>LIGHTCOND</th>\n",
       "      <th>ROADGEOM</th>\n",
       "      <th>SPEED_ZONE</th>\n",
       "      <th>WEATHCOND</th>\n",
       "      <th>SURFACECOND</th>\n",
       "      <th>SEVERITY</th>\n",
       "    </tr>\n",
       "  </thead>\n",
       "  <tbody>\n",
       "    <tr>\n",
       "      <th>0</th>\n",
       "      <td>T20060000010</td>\n",
       "      <td>0</td>\n",
       "      <td>1</td>\n",
       "      <td>60</td>\n",
       "      <td>0</td>\n",
       "      <td>0</td>\n",
       "      <td>3</td>\n",
       "    </tr>\n",
       "    <tr>\n",
       "      <th>1</th>\n",
       "      <td>T20060000018</td>\n",
       "      <td>0</td>\n",
       "      <td>1</td>\n",
       "      <td>70</td>\n",
       "      <td>0</td>\n",
       "      <td>0</td>\n",
       "      <td>3</td>\n",
       "    </tr>\n",
       "    <tr>\n",
       "      <th>2</th>\n",
       "      <td>T20060000022</td>\n",
       "      <td>0</td>\n",
       "      <td>0</td>\n",
       "      <td>100</td>\n",
       "      <td>0</td>\n",
       "      <td>0</td>\n",
       "      <td>2</td>\n",
       "    </tr>\n",
       "    <tr>\n",
       "      <th>3</th>\n",
       "      <td>T20060000023</td>\n",
       "      <td>0</td>\n",
       "      <td>1</td>\n",
       "      <td>80</td>\n",
       "      <td>0</td>\n",
       "      <td>0</td>\n",
       "      <td>2</td>\n",
       "    </tr>\n",
       "    <tr>\n",
       "      <th>4</th>\n",
       "      <td>T20060000026</td>\n",
       "      <td>0</td>\n",
       "      <td>0</td>\n",
       "      <td>50</td>\n",
       "      <td>0</td>\n",
       "      <td>0</td>\n",
       "      <td>3</td>\n",
       "    </tr>\n",
       "    <tr>\n",
       "      <th>5</th>\n",
       "      <td>T20060000028</td>\n",
       "      <td>0</td>\n",
       "      <td>1</td>\n",
       "      <td>100</td>\n",
       "      <td>0</td>\n",
       "      <td>0</td>\n",
       "      <td>2</td>\n",
       "    </tr>\n",
       "    <tr>\n",
       "      <th>6</th>\n",
       "      <td>T20060000035</td>\n",
       "      <td>0</td>\n",
       "      <td>0</td>\n",
       "      <td>100</td>\n",
       "      <td>0</td>\n",
       "      <td>0</td>\n",
       "      <td>2</td>\n",
       "    </tr>\n",
       "    <tr>\n",
       "      <th>7</th>\n",
       "      <td>T20060000042</td>\n",
       "      <td>1</td>\n",
       "      <td>0</td>\n",
       "      <td>70</td>\n",
       "      <td>0</td>\n",
       "      <td>0</td>\n",
       "      <td>2</td>\n",
       "    </tr>\n",
       "    <tr>\n",
       "      <th>8</th>\n",
       "      <td>T20060000044</td>\n",
       "      <td>0</td>\n",
       "      <td>1</td>\n",
       "      <td>80</td>\n",
       "      <td>0</td>\n",
       "      <td>0</td>\n",
       "      <td>2</td>\n",
       "    </tr>\n",
       "    <tr>\n",
       "      <th>9</th>\n",
       "      <td>T20060000046</td>\n",
       "      <td>0</td>\n",
       "      <td>0</td>\n",
       "      <td>60</td>\n",
       "      <td>0</td>\n",
       "      <td>0</td>\n",
       "      <td>3</td>\n",
       "    </tr>\n",
       "  </tbody>\n",
       "</table>\n",
       "</div>"
      ],
      "text/plain": [
       "    ACCIDENT_NO  LIGHTCOND  ROADGEOM  SPEED_ZONE  WEATHCOND  SURFACECOND  \\\n",
       "0  T20060000010          0         1          60          0            0   \n",
       "1  T20060000018          0         1          70          0            0   \n",
       "2  T20060000022          0         0         100          0            0   \n",
       "3  T20060000023          0         1          80          0            0   \n",
       "4  T20060000026          0         0          50          0            0   \n",
       "5  T20060000028          0         1         100          0            0   \n",
       "6  T20060000035          0         0         100          0            0   \n",
       "7  T20060000042          1         0          70          0            0   \n",
       "8  T20060000044          0         1          80          0            0   \n",
       "9  T20060000046          0         0          60          0            0   \n",
       "\n",
       "   SEVERITY  \n",
       "0         3  \n",
       "1         3  \n",
       "2         2  \n",
       "3         2  \n",
       "4         3  \n",
       "5         2  \n",
       "6         2  \n",
       "7         2  \n",
       "8         2  \n",
       "9         3  "
      ]
     },
     "execution_count": 24,
     "metadata": {},
     "output_type": "execute_result"
    }
   ],
   "source": [
    "accident_df.head(10)"
   ]
  },
  {
   "cell_type": "code",
   "execution_count": 25,
   "metadata": {},
   "outputs": [],
   "source": [
    "accident_df[\"LIGHTCOND\"] = accident_df[\"LIGHTCOND\"].astype(int)\n",
    "accident_df[\"ROADGEOM\"] = accident_df[\"ROADGEOM\"].astype(int)\n",
    "accident_df[\"SPEED_ZONE\"] = accident_df[\"SPEED_ZONE\"].astype(int)\n",
    "accident_df[\"WEATHCOND\"] = accident_df[\"WEATHCOND\"].astype(int)\n",
    "accident_df[\"SURFACECOND\"] = accident_df[\"SURFACECOND\"].astype(int)\n",
    "accident_df[\"SEVERITY\"] = accident_df[\"SEVERITY\"].astype(int)\n"
   ]
  },
  {
   "cell_type": "code",
   "execution_count": 26,
   "metadata": {},
   "outputs": [
    {
     "data": {
      "text/html": [
       "<div>\n",
       "<style scoped>\n",
       "    .dataframe tbody tr th:only-of-type {\n",
       "        vertical-align: middle;\n",
       "    }\n",
       "\n",
       "    .dataframe tbody tr th {\n",
       "        vertical-align: top;\n",
       "    }\n",
       "\n",
       "    .dataframe thead th {\n",
       "        text-align: right;\n",
       "    }\n",
       "</style>\n",
       "<table border=\"1\" class=\"dataframe\">\n",
       "  <thead>\n",
       "    <tr style=\"text-align: right;\">\n",
       "      <th></th>\n",
       "      <th>ACCIDENT_NO</th>\n",
       "      <th>LIGHTCOND</th>\n",
       "      <th>ROADGEOM</th>\n",
       "      <th>SPEED_ZONE</th>\n",
       "      <th>WEATHCOND</th>\n",
       "      <th>SURFACECOND</th>\n",
       "      <th>SEVERITY</th>\n",
       "    </tr>\n",
       "  </thead>\n",
       "  <tbody>\n",
       "    <tr>\n",
       "      <th>0</th>\n",
       "      <td>T20060000010</td>\n",
       "      <td>0</td>\n",
       "      <td>1</td>\n",
       "      <td>60</td>\n",
       "      <td>0</td>\n",
       "      <td>0</td>\n",
       "      <td>3</td>\n",
       "    </tr>\n",
       "    <tr>\n",
       "      <th>1</th>\n",
       "      <td>T20060000018</td>\n",
       "      <td>0</td>\n",
       "      <td>1</td>\n",
       "      <td>70</td>\n",
       "      <td>0</td>\n",
       "      <td>0</td>\n",
       "      <td>3</td>\n",
       "    </tr>\n",
       "    <tr>\n",
       "      <th>2</th>\n",
       "      <td>T20060000022</td>\n",
       "      <td>0</td>\n",
       "      <td>0</td>\n",
       "      <td>100</td>\n",
       "      <td>0</td>\n",
       "      <td>0</td>\n",
       "      <td>2</td>\n",
       "    </tr>\n",
       "    <tr>\n",
       "      <th>3</th>\n",
       "      <td>T20060000023</td>\n",
       "      <td>0</td>\n",
       "      <td>1</td>\n",
       "      <td>80</td>\n",
       "      <td>0</td>\n",
       "      <td>0</td>\n",
       "      <td>2</td>\n",
       "    </tr>\n",
       "    <tr>\n",
       "      <th>4</th>\n",
       "      <td>T20060000026</td>\n",
       "      <td>0</td>\n",
       "      <td>0</td>\n",
       "      <td>50</td>\n",
       "      <td>0</td>\n",
       "      <td>0</td>\n",
       "      <td>3</td>\n",
       "    </tr>\n",
       "    <tr>\n",
       "      <th>5</th>\n",
       "      <td>T20060000028</td>\n",
       "      <td>0</td>\n",
       "      <td>1</td>\n",
       "      <td>100</td>\n",
       "      <td>0</td>\n",
       "      <td>0</td>\n",
       "      <td>2</td>\n",
       "    </tr>\n",
       "    <tr>\n",
       "      <th>6</th>\n",
       "      <td>T20060000035</td>\n",
       "      <td>0</td>\n",
       "      <td>0</td>\n",
       "      <td>100</td>\n",
       "      <td>0</td>\n",
       "      <td>0</td>\n",
       "      <td>2</td>\n",
       "    </tr>\n",
       "    <tr>\n",
       "      <th>7</th>\n",
       "      <td>T20060000042</td>\n",
       "      <td>1</td>\n",
       "      <td>0</td>\n",
       "      <td>70</td>\n",
       "      <td>0</td>\n",
       "      <td>0</td>\n",
       "      <td>2</td>\n",
       "    </tr>\n",
       "    <tr>\n",
       "      <th>8</th>\n",
       "      <td>T20060000044</td>\n",
       "      <td>0</td>\n",
       "      <td>1</td>\n",
       "      <td>80</td>\n",
       "      <td>0</td>\n",
       "      <td>0</td>\n",
       "      <td>2</td>\n",
       "    </tr>\n",
       "    <tr>\n",
       "      <th>9</th>\n",
       "      <td>T20060000046</td>\n",
       "      <td>0</td>\n",
       "      <td>0</td>\n",
       "      <td>60</td>\n",
       "      <td>0</td>\n",
       "      <td>0</td>\n",
       "      <td>3</td>\n",
       "    </tr>\n",
       "  </tbody>\n",
       "</table>\n",
       "</div>"
      ],
      "text/plain": [
       "    ACCIDENT_NO  LIGHTCOND  ROADGEOM  SPEED_ZONE  WEATHCOND  SURFACECOND  \\\n",
       "0  T20060000010          0         1          60          0            0   \n",
       "1  T20060000018          0         1          70          0            0   \n",
       "2  T20060000022          0         0         100          0            0   \n",
       "3  T20060000023          0         1          80          0            0   \n",
       "4  T20060000026          0         0          50          0            0   \n",
       "5  T20060000028          0         1         100          0            0   \n",
       "6  T20060000035          0         0         100          0            0   \n",
       "7  T20060000042          1         0          70          0            0   \n",
       "8  T20060000044          0         1          80          0            0   \n",
       "9  T20060000046          0         0          60          0            0   \n",
       "\n",
       "   SEVERITY  \n",
       "0         3  \n",
       "1         3  \n",
       "2         2  \n",
       "3         2  \n",
       "4         3  \n",
       "5         2  \n",
       "6         2  \n",
       "7         2  \n",
       "8         2  \n",
       "9         3  "
      ]
     },
     "execution_count": 26,
     "metadata": {},
     "output_type": "execute_result"
    }
   ],
   "source": [
    "accident_df.head(10)"
   ]
  },
  {
   "cell_type": "code",
   "execution_count": 27,
   "metadata": {},
   "outputs": [
    {
     "data": {
      "text/plain": [
       "3    128615\n",
       "2     68064\n",
       "1      3677\n",
       "4         4\n",
       "Name: SEVERITY, dtype: int64"
      ]
     },
     "execution_count": 27,
     "metadata": {},
     "output_type": "execute_result"
    }
   ],
   "source": [
    "accident_df[\"SEVERITY\"].value_counts()"
   ]
  },
  {
   "cell_type": "code",
   "execution_count": 28,
   "metadata": {},
   "outputs": [],
   "source": [
    "# Encode serverity ( 0 = Fatal and Serious, 1 = Non Serious/Fatal )\n",
    "\n",
    "accident_df[\"SEVERITY\"].replace(1, 0 , inplace = True)\n",
    "accident_df[\"SEVERITY\"].replace(2, 0 , inplace = True)\n",
    "accident_df[\"SEVERITY\"].replace(3, 1 , inplace = True)\n",
    "accident_df[\"SEVERITY\"].replace(4, 1 , inplace = True)\n"
   ]
  },
  {
   "cell_type": "code",
   "execution_count": 29,
   "metadata": {},
   "outputs": [
    {
     "data": {
      "text/plain": [
       "1    128619\n",
       "0     71741\n",
       "Name: SEVERITY, dtype: int64"
      ]
     },
     "execution_count": 29,
     "metadata": {},
     "output_type": "execute_result"
    }
   ],
   "source": [
    "accident_df[\"SEVERITY\"].value_counts()"
   ]
  },
  {
   "cell_type": "code",
   "execution_count": 30,
   "metadata": {},
   "outputs": [],
   "source": [
    "accident_df[\"SEVERITY\"] = accident_df[\"SEVERITY\"].astype(int)"
   ]
  },
  {
   "cell_type": "code",
   "execution_count": 31,
   "metadata": {},
   "outputs": [
    {
     "data": {
      "text/html": [
       "<div>\n",
       "<style scoped>\n",
       "    .dataframe tbody tr th:only-of-type {\n",
       "        vertical-align: middle;\n",
       "    }\n",
       "\n",
       "    .dataframe tbody tr th {\n",
       "        vertical-align: top;\n",
       "    }\n",
       "\n",
       "    .dataframe thead th {\n",
       "        text-align: right;\n",
       "    }\n",
       "</style>\n",
       "<table border=\"1\" class=\"dataframe\">\n",
       "  <thead>\n",
       "    <tr style=\"text-align: right;\">\n",
       "      <th></th>\n",
       "      <th>ACCIDENT_NO</th>\n",
       "      <th>LIGHTCOND</th>\n",
       "      <th>ROADGEOM</th>\n",
       "      <th>SPEED_ZONE</th>\n",
       "      <th>WEATHCOND</th>\n",
       "      <th>SURFACECOND</th>\n",
       "      <th>SEVERITY</th>\n",
       "    </tr>\n",
       "  </thead>\n",
       "  <tbody>\n",
       "    <tr>\n",
       "      <th>0</th>\n",
       "      <td>T20060000010</td>\n",
       "      <td>0</td>\n",
       "      <td>1</td>\n",
       "      <td>60</td>\n",
       "      <td>0</td>\n",
       "      <td>0</td>\n",
       "      <td>1</td>\n",
       "    </tr>\n",
       "    <tr>\n",
       "      <th>1</th>\n",
       "      <td>T20060000018</td>\n",
       "      <td>0</td>\n",
       "      <td>1</td>\n",
       "      <td>70</td>\n",
       "      <td>0</td>\n",
       "      <td>0</td>\n",
       "      <td>1</td>\n",
       "    </tr>\n",
       "    <tr>\n",
       "      <th>2</th>\n",
       "      <td>T20060000022</td>\n",
       "      <td>0</td>\n",
       "      <td>0</td>\n",
       "      <td>100</td>\n",
       "      <td>0</td>\n",
       "      <td>0</td>\n",
       "      <td>0</td>\n",
       "    </tr>\n",
       "    <tr>\n",
       "      <th>3</th>\n",
       "      <td>T20060000023</td>\n",
       "      <td>0</td>\n",
       "      <td>1</td>\n",
       "      <td>80</td>\n",
       "      <td>0</td>\n",
       "      <td>0</td>\n",
       "      <td>0</td>\n",
       "    </tr>\n",
       "    <tr>\n",
       "      <th>4</th>\n",
       "      <td>T20060000026</td>\n",
       "      <td>0</td>\n",
       "      <td>0</td>\n",
       "      <td>50</td>\n",
       "      <td>0</td>\n",
       "      <td>0</td>\n",
       "      <td>1</td>\n",
       "    </tr>\n",
       "  </tbody>\n",
       "</table>\n",
       "</div>"
      ],
      "text/plain": [
       "    ACCIDENT_NO  LIGHTCOND  ROADGEOM  SPEED_ZONE  WEATHCOND  SURFACECOND  \\\n",
       "0  T20060000010          0         1          60          0            0   \n",
       "1  T20060000018          0         1          70          0            0   \n",
       "2  T20060000022          0         0         100          0            0   \n",
       "3  T20060000023          0         1          80          0            0   \n",
       "4  T20060000026          0         0          50          0            0   \n",
       "\n",
       "   SEVERITY  \n",
       "0         1  \n",
       "1         1  \n",
       "2         0  \n",
       "3         0  \n",
       "4         1  "
      ]
     },
     "execution_count": 31,
     "metadata": {},
     "output_type": "execute_result"
    }
   ],
   "source": [
    "accident_df.head()"
   ]
  },
  {
   "cell_type": "code",
   "execution_count": 32,
   "metadata": {},
   "outputs": [
    {
     "data": {
      "image/png": "[encoded data removed]",
      "text/plain": [
       "<Figure size 432x288 with 1 Axes>"
      ]
     },
     "metadata": {
      "needs_background": "light"
     },
     "output_type": "display_data"
    }
   ],
   "source": [
    "ax = sns.countplot(x = \"WEATHCOND\", hue = \"SEVERITY\", data = accident_df )"
   ]
  },
  {
   "cell_type": "code",
   "execution_count": 33,
   "metadata": {},
   "outputs": [
    {
     "data": {
      "image/png": "[encoded data removed]",
      "text/plain": [
       "<Figure size 432x288 with 1 Axes>"
      ]
     },
     "metadata": {
      "needs_background": "light"
     },
     "output_type": "display_data"
    }
   ],
   "source": [
    "ax = sns.countplot(x = \"SURFACECOND\", hue = \"SEVERITY\", data = accident_df )"
   ]
  },
  {
   "cell_type": "code",
   "execution_count": 34,
   "metadata": {},
   "outputs": [
    {
     "data": {
      "text/plain": [
       "1    71741\n",
       "0    71741\n",
       "Name: SEVERITY, dtype: int64"
      ]
     },
     "execution_count": 34,
     "metadata": {},
     "output_type": "execute_result"
    }
   ],
   "source": [
    "# Balance the data set by downsampling\n",
    "\n",
    "accident_df_maj = accident_df[accident_df.SEVERITY == 1 ]\n",
    "accident_df_min = accident_df[accident_df.SEVERITY == 0 ]\n",
    "\n",
    "accident_df_maj_dsample = resample(accident_df_maj, replace = False, n_samples = 71741, random_state = 123 )\n",
    "\n",
    "accident_df_balance = pd.concat([accident_df_maj_dsample, accident_df_min])\n",
    "\n",
    "accident_df_balance[\"SEVERITY\"].value_counts()"
   ]
  },
  {
   "cell_type": "code",
   "execution_count": 35,
   "metadata": {},
   "outputs": [
    {
     "data": {
      "image/png": "[encoded data removed]",
      "text/plain": [
       "<Figure size 432x288 with 1 Axes>"
      ]
     },
     "metadata": {
      "needs_background": "light"
     },
     "output_type": "display_data"
    }
   ],
   "source": [
    "ax = sns.countplot(x = \"SURFACECOND\", data = accident_df_balance )"
   ]
  },
  {
   "cell_type": "code",
   "execution_count": 36,
   "metadata": {},
   "outputs": [],
   "source": [
    "# ML Feature Sets\n",
    "\n",
    "X = accident_df_balance[[\"LIGHTCOND\", \"ROADGEOM\", \"WEATHCOND\", \"SURFACECOND\"]].values\n",
    "y = accident_df_balance[[\"SEVERITY\"]].values\n",
    "\n",
    "# Normalize Data\n",
    "X = preprocessing.StandardScaler().fit(X).transform(X.astype(float))"
   ]
  },
  {
   "cell_type": "code",
   "execution_count": 37,
   "metadata": {},
   "outputs": [
    {
     "name": "stdout",
     "output_type": "stream",
     "text": [
      "Train set:  (114785, 4) (114785, 1)\n",
      "Test set:  (28697, 4) (114785, 1)\n"
     ]
    }
   ],
   "source": [
    "# Train and Test split\n",
    "from sklearn.model_selection import train_test_split\n",
    "X_train, X_test, y_train, y_test = train_test_split(X, y, test_size = 0.2, random_state = 4 )\n",
    "print('Train set: ', X_train.shape, y_train.shape )\n",
    "print('Test set: ', X_test.shape, y_train.shape )\n"
   ]
  },
  {
   "cell_type": "markdown",
   "metadata": {},
   "source": [
    "## ML Models\n",
    "\n",
    "### K Nearest Neighbour ( KNN )"
   ]
  },
  {
   "cell_type": "code",
   "execution_count": 38,
   "metadata": {},
   "outputs": [
    {
     "name": "stderr",
     "output_type": "stream",
     "text": [
      "C:\\Users\\d816660\\Anaconda3\\lib\\site-packages\\ipykernel_launcher.py:4: DataConversionWarning: A column-vector y was passed when a 1d array was expected. Please change the shape of y to (n_samples, ), for example using ravel().\n",
      "  after removing the cwd from sys.path.\n"
     ]
    },
    {
     "data": {
      "text/plain": [
       "KNeighborsClassifier(algorithm='auto', leaf_size=30, metric='minkowski',\n",
       "                     metric_params=None, n_jobs=None, n_neighbors=5, p=2,\n",
       "                     weights='uniform')"
      ]
     },
     "execution_count": 38,
     "metadata": {},
     "output_type": "execute_result"
    }
   ],
   "source": [
    "# K Nearest Neighbor ( KNN )\n",
    "from sklearn.neighbors import KNeighborsClassifier\n",
    "k = 5\n",
    "knn = KNeighborsClassifier(n_neighbors = k).fit(X_train,y_train)\n",
    "knn"
   ]
  },
  {
   "cell_type": "code",
   "execution_count": 39,
   "metadata": {},
   "outputs": [
    {
     "data": {
      "text/plain": [
       "array([1, 0, 0, 0, 0])"
      ]
     },
     "execution_count": 39,
     "metadata": {},
     "output_type": "execute_result"
    }
   ],
   "source": [
    "# Predicting\n",
    "yhat = knn.predict(X_test)\n",
    "yhat[0:5]"
   ]
  },
  {
   "cell_type": "code",
   "execution_count": 40,
   "metadata": {},
   "outputs": [
    {
     "name": "stdout",
     "output_type": "stream",
     "text": [
      "Train set Accuracy :  0.5323430761859128\n",
      "Test set Accuracy :  0.533714325539255\n"
     ]
    }
   ],
   "source": [
    "# Accuracy evaluation\n",
    "from sklearn import metrics\n",
    "print(\"Train set Accuracy : \", metrics.accuracy_score(y_train, knn.predict(X_train)))\n",
    "print(\"Test set Accuracy : \", metrics.accuracy_score(y_test, yhat))\n"
   ]
  },
  {
   "cell_type": "code",
   "execution_count": 41,
   "metadata": {},
   "outputs": [
    {
     "name": "stderr",
     "output_type": "stream",
     "text": [
      "C:\\Users\\d816660\\Anaconda3\\lib\\site-packages\\ipykernel_launcher.py:8: DataConversionWarning: A column-vector y was passed when a 1d array was expected. Please change the shape of y to (n_samples, ), for example using ravel().\n",
      "  \n",
      "C:\\Users\\d816660\\Anaconda3\\lib\\site-packages\\ipykernel_launcher.py:8: DataConversionWarning: A column-vector y was passed when a 1d array was expected. Please change the shape of y to (n_samples, ), for example using ravel().\n",
      "  \n",
      "C:\\Users\\d816660\\Anaconda3\\lib\\site-packages\\ipykernel_launcher.py:8: DataConversionWarning: A column-vector y was passed when a 1d array was expected. Please change the shape of y to (n_samples, ), for example using ravel().\n",
      "  \n",
      "C:\\Users\\d816660\\Anaconda3\\lib\\site-packages\\ipykernel_launcher.py:8: DataConversionWarning: A column-vector y was passed when a 1d array was expected. Please change the shape of y to (n_samples, ), for example using ravel().\n",
      "  \n",
      "C:\\Users\\d816660\\Anaconda3\\lib\\site-packages\\ipykernel_launcher.py:8: DataConversionWarning: A column-vector y was passed when a 1d array was expected. Please change the shape of y to (n_samples, ), for example using ravel().\n",
      "  \n",
      "C:\\Users\\d816660\\Anaconda3\\lib\\site-packages\\ipykernel_launcher.py:8: DataConversionWarning: A column-vector y was passed when a 1d array was expected. Please change the shape of y to (n_samples, ), for example using ravel().\n",
      "  \n",
      "C:\\Users\\d816660\\Anaconda3\\lib\\site-packages\\ipykernel_launcher.py:8: DataConversionWarning: A column-vector y was passed when a 1d array was expected. Please change the shape of y to (n_samples, ), for example using ravel().\n",
      "  \n",
      "C:\\Users\\d816660\\Anaconda3\\lib\\site-packages\\ipykernel_launcher.py:8: DataConversionWarning: A column-vector y was passed when a 1d array was expected. Please change the shape of y to (n_samples, ), for example using ravel().\n",
      "  \n",
      "C:\\Users\\d816660\\Anaconda3\\lib\\site-packages\\ipykernel_launcher.py:8: DataConversionWarning: A column-vector y was passed when a 1d array was expected. Please change the shape of y to (n_samples, ), for example using ravel().\n",
      "  \n",
      "C:\\Users\\d816660\\Anaconda3\\lib\\site-packages\\ipykernel_launcher.py:8: DataConversionWarning: A column-vector y was passed when a 1d array was expected. Please change the shape of y to (n_samples, ), for example using ravel().\n",
      "  \n",
      "C:\\Users\\d816660\\Anaconda3\\lib\\site-packages\\ipykernel_launcher.py:8: DataConversionWarning: A column-vector y was passed when a 1d array was expected. Please change the shape of y to (n_samples, ), for example using ravel().\n",
      "  \n",
      "C:\\Users\\d816660\\Anaconda3\\lib\\site-packages\\ipykernel_launcher.py:8: DataConversionWarning: A column-vector y was passed when a 1d array was expected. Please change the shape of y to (n_samples, ), for example using ravel().\n",
      "  \n",
      "C:\\Users\\d816660\\Anaconda3\\lib\\site-packages\\ipykernel_launcher.py:8: DataConversionWarning: A column-vector y was passed when a 1d array was expected. Please change the shape of y to (n_samples, ), for example using ravel().\n",
      "  \n",
      "C:\\Users\\d816660\\Anaconda3\\lib\\site-packages\\ipykernel_launcher.py:8: DataConversionWarning: A column-vector y was passed when a 1d array was expected. Please change the shape of y to (n_samples, ), for example using ravel().\n",
      "  \n",
      "C:\\Users\\d816660\\Anaconda3\\lib\\site-packages\\ipykernel_launcher.py:8: DataConversionWarning: A column-vector y was passed when a 1d array was expected. Please change the shape of y to (n_samples, ), for example using ravel().\n",
      "  \n",
      "C:\\Users\\d816660\\Anaconda3\\lib\\site-packages\\ipykernel_launcher.py:8: DataConversionWarning: A column-vector y was passed when a 1d array was expected. Please change the shape of y to (n_samples, ), for example using ravel().\n",
      "  \n",
      "C:\\Users\\d816660\\Anaconda3\\lib\\site-packages\\ipykernel_launcher.py:8: DataConversionWarning: A column-vector y was passed when a 1d array was expected. Please change the shape of y to (n_samples, ), for example using ravel().\n",
      "  \n",
      "C:\\Users\\d816660\\Anaconda3\\lib\\site-packages\\ipykernel_launcher.py:8: DataConversionWarning: A column-vector y was passed when a 1d array was expected. Please change the shape of y to (n_samples, ), for example using ravel().\n",
      "  \n",
      "C:\\Users\\d816660\\Anaconda3\\lib\\site-packages\\ipykernel_launcher.py:8: DataConversionWarning: A column-vector y was passed when a 1d array was expected. Please change the shape of y to (n_samples, ), for example using ravel().\n",
      "  \n",
      "C:\\Users\\d816660\\Anaconda3\\lib\\site-packages\\ipykernel_launcher.py:8: DataConversionWarning: A column-vector y was passed when a 1d array was expected. Please change the shape of y to (n_samples, ), for example using ravel().\n",
      "  \n",
      "C:\\Users\\d816660\\Anaconda3\\lib\\site-packages\\ipykernel_launcher.py:8: DataConversionWarning: A column-vector y was passed when a 1d array was expected. Please change the shape of y to (n_samples, ), for example using ravel().\n",
      "  \n",
      "C:\\Users\\d816660\\Anaconda3\\lib\\site-packages\\ipykernel_launcher.py:8: DataConversionWarning: A column-vector y was passed when a 1d array was expected. Please change the shape of y to (n_samples, ), for example using ravel().\n",
      "  \n",
      "C:\\Users\\d816660\\Anaconda3\\lib\\site-packages\\ipykernel_launcher.py:8: DataConversionWarning: A column-vector y was passed when a 1d array was expected. Please change the shape of y to (n_samples, ), for example using ravel().\n",
      "  \n",
      "C:\\Users\\d816660\\Anaconda3\\lib\\site-packages\\ipykernel_launcher.py:8: DataConversionWarning: A column-vector y was passed when a 1d array was expected. Please change the shape of y to (n_samples, ), for example using ravel().\n",
      "  \n"
     ]
    },
    {
     "name": "stdout",
     "output_type": "stream",
     "text": [
      "[0.5335749381468446, 0.5394640554761821, 0.5412760915775168, 0.5397079834129003, 0.533714325539255, 0.5397428302610029, 0.5370247761090009, 0.5378959473115656, 0.5411367041851065, 0.5455274070460326, 0.5440638394257239, 0.5457016412865456, 0.5432275150712618, 0.5391504338432589, 0.543122974526954, 0.5447956232358783, 0.5442032268181343, 0.5443426142105446, 0.5433320556155695, 0.5432623619193644, 0.5361536049064363, 0.5436805240965955, 0.5427745060459281, 0.5423911907167996]\n"
     ]
    }
   ],
   "source": [
    "# Calculate accuracy for different Ks to find best K for the model\n",
    "k_range = range(1,25)\n",
    "\n",
    "scores = []\n",
    "\n",
    "for k in k_range:\n",
    "    knn = KNeighborsClassifier(n_neighbors=k)\n",
    "    knn.fit(X_train, y_train )\n",
    "    y_pred = knn.predict(X_test)\n",
    "    scores.append(metrics.accuracy_score(y_test, y_pred))\n",
    "    \n",
    "print(scores)    "
   ]
  },
  {
   "cell_type": "code",
   "execution_count": 42,
   "metadata": {},
   "outputs": [
    {
     "data": {
      "text/plain": [
       "Text(0, 0.5, 'Testing Accuracy')"
      ]
     },
     "execution_count": 42,
     "metadata": {},
     "output_type": "execute_result"
    },
    {
     "data": {
      "image/png": "[encoded data removed]",
      "text/plain": [
       "<Figure size 432x288 with 1 Axes>"
      ]
     },
     "metadata": {
      "needs_background": "light"
     },
     "output_type": "display_data"
    }
   ],
   "source": [
    "plt.plot(k_range, scores)\n",
    "plt.xlabel('Value of K fo KNN')\n",
    "plt.ylabel('Testing Accuracy')\n"
   ]
  },
  {
   "cell_type": "code",
   "execution_count": 43,
   "metadata": {},
   "outputs": [
    {
     "name": "stdout",
     "output_type": "stream",
     "text": [
      "The best accuracy with  0.5457016412865456 with k =  12\n"
     ]
    }
   ],
   "source": [
    "print(\"The best accuracy with \", max(scores), \"with k = \", scores.index(max(scores))+1 )"
   ]
  },
  {
   "cell_type": "code",
   "execution_count": 50,
   "metadata": {},
   "outputs": [
    {
     "name": "stdout",
     "output_type": "stream",
     "text": [
      "jaccard_score :  0.3665525059090251\n",
      "f1_score :  0.5423163350737625\n"
     ]
    }
   ],
   "source": [
    "# KNN Evaluation\n",
    "from sklearn.metrics import jaccard_score\n",
    "from sklearn.metrics import f1_score\n",
    "print(\"jaccard_score : \", jaccard_score(y_test,y_pred))\n",
    "print(\"f1_score : \", f1_score(y_test, y_pred, average = 'macro'))"
   ]
  },
  {
   "cell_type": "markdown",
   "metadata": {},
   "source": [
    "### Decision Tree"
   ]
  },
  {
   "cell_type": "code",
   "execution_count": 53,
   "metadata": {},
   "outputs": [
    {
     "data": {
      "text/plain": [
       "DecisionTreeClassifier(ccp_alpha=0.0, class_weight=None, criterion='entropy',\n",
       "                       max_depth=4, max_features=None, max_leaf_nodes=None,\n",
       "                       min_impurity_decrease=0.0, min_impurity_split=None,\n",
       "                       min_samples_leaf=1, min_samples_split=2,\n",
       "                       min_weight_fraction_leaf=0.0, presort='deprecated',\n",
       "                       random_state=None, splitter='best')"
      ]
     },
     "execution_count": 53,
     "metadata": {},
     "output_type": "execute_result"
    }
   ],
   "source": [
    "# Decision Tree ML Model\n",
    "\n",
    "from sklearn.tree import DecisionTreeClassifier\n",
    "dt = DecisionTreeClassifier(criterion =\"entropy\", max_depth = 4)\n",
    "\n",
    "dt.fit(X_train, y_train)"
   ]
  },
  {
   "cell_type": "code",
   "execution_count": 56,
   "metadata": {},
   "outputs": [
    {
     "name": "stdout",
     "output_type": "stream",
     "text": [
      "[1 0 0 1 0]\n",
      "[[1]\n",
      " [0]\n",
      " [0]\n",
      " [0]\n",
      " [0]]\n"
     ]
    }
   ],
   "source": [
    "# Prediction\n",
    "predTree = dt.predict(X_test)\n",
    "print(predTree [0:5])\n",
    "print(y_test [0:5])"
   ]
  },
  {
   "cell_type": "code",
   "execution_count": 59,
   "metadata": {},
   "outputs": [
    {
     "name": "stdout",
     "output_type": "stream",
     "text": [
      "DecisionTree's Accuracy :  0.5473742899954699\n",
      "jaccard_score :  0.3072533333333333\n",
      "f1_score :  0.5375340610118486\n"
     ]
    }
   ],
   "source": [
    "# Evaluation Decision Tree\n",
    "print(\"DecisionTree's Accuracy : \", metrics.accuracy_score(y_test, predTree))\n",
    "print(\"jaccard_score : \", jaccard_score(y_test, predTree))\n",
    "print(\"f1_score : \", f1_score(y_test, predTree, average ='macro'))"
   ]
  },
  {
   "cell_type": "markdown",
   "metadata": {},
   "source": [
    "### Logistic Regression\n"
   ]
  },
  {
   "cell_type": "code",
   "execution_count": 62,
   "metadata": {},
   "outputs": [
    {
     "name": "stderr",
     "output_type": "stream",
     "text": [
      "C:\\Users\\d816660\\Anaconda3\\lib\\site-packages\\sklearn\\utils\\validation.py:760: DataConversionWarning: A column-vector y was passed when a 1d array was expected. Please change the shape of y to (n_samples, ), for example using ravel().\n",
      "  y = column_or_1d(y, warn=True)\n"
     ]
    }
   ],
   "source": [
    "# Logistic Regression ML algorithm\n",
    "\n",
    "from sklearn.linear_model import LogisticRegression\n",
    "\n",
    "LR = LogisticRegression(C=0.01, solver='liblinear').fit(X_train,y_train)"
   ]
  },
  {
   "cell_type": "code",
   "execution_count": 65,
   "metadata": {},
   "outputs": [
    {
     "name": "stdout",
     "output_type": "stream",
     "text": [
      "[1 0 1 1 0]\n",
      "[[1]\n",
      " [0]\n",
      " [0]\n",
      " [0]\n",
      " [0]]\n"
     ]
    }
   ],
   "source": [
    "predLR = LR.predict(X_test)\n",
    "print(predLR [0:5])\n",
    "print(y_test [0:5])"
   ]
  },
  {
   "cell_type": "code",
   "execution_count": 67,
   "metadata": {},
   "outputs": [
    {
     "name": "stdout",
     "output_type": "stream",
     "text": [
      "DecisionTree's Accuracy :  0.546259190856187\n",
      "jaccard_score :  0.3345428527623039\n",
      "f1_score :  0.5425502025607187\n"
     ]
    }
   ],
   "source": [
    "# Evaluation Logistic Regression\n",
    "print(\"DecisionTree's Accuracy : \", metrics.accuracy_score(y_test, predLR))\n",
    "print(\"jaccard_score : \", jaccard_score(y_test, predLR))\n",
    "print(\"f1_score : \", f1_score(y_test, predLR, average ='macro'))"
   ]
  },
  {
   "cell_type": "code",
   "execution_count": null,
   "metadata": {},
   "outputs": [],
   "source": []
  }
 ],
 "metadata": {
  "kernelspec": {
   "display_name": "Python 3",
   "language": "python",
   "name": "python3"
  },
  "language_info": {
   "codemirror_mode": {
    "name": "ipython",
    "version": 3
   },
   "file_extension": ".py",
   "mimetype": "text/x-python",
   "name": "python",
   "nbconvert_exporter": "python",
   "pygments_lexer": "ipython3",
   "version": "3.7.6"
  }
 },
 "nbformat": 4,
 "nbformat_minor": 4
}
